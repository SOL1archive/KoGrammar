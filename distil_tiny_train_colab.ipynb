{
  "cells": [
    {
      "attachments": {},
      "cell_type": "markdown",
      "metadata": {
        "colab_type": "text",
        "id": "view-in-github"
      },
      "source": [
        "<a href=\"https://colab.research.google.com/github/SOL1archive/KoGrammar/blob/main/distil_tiny_train_colab.ipynb\" target=\"_parent\"><img src=\"https://colab.research.google.com/assets/colab-badge.svg\" alt=\"Open In Colab\"/></a>"
      ]
    },
    {
      "cell_type": "code",
      "execution_count": null,
      "metadata": {
        "colab": {
          "base_uri": "https://localhost:8080/"
        },
        "id": "fp31SzoGfn6c",
        "outputId": "ca633e9e-aade-41a8-cf26-0acda021ee61"
      },
      "outputs": [
        {
          "data": {
            "text/plain": [
              "True"
            ]
          },
          "execution_count": 1,
          "metadata": {},
          "output_type": "execute_result"
        }
      ],
      "source": [
        "try:\n",
        "  import google.colab\n",
        "  IN_COLAB = True\n",
        "  \n",
        "except:\n",
        "  IN_COLAB = False\n",
        "\n",
        "IN_COLAB"
      ]
    },
    {
      "cell_type": "code",
      "execution_count": null,
      "metadata": {
        "id": "YsKGqu5qyBd9"
      },
      "outputs": [],
      "source": [
        "!pip install transformers\n",
        "!pip install datasets\n",
        "!pip install evaluate\n",
        "!pip install rouge_score\n",
        "!pip install torchmetrics\n",
        "!pip install --upgrade accelerate\n",
        "!pip install rouge"
      ]
    },
    {
      "cell_type": "code",
      "execution_count": null,
      "metadata": {
        "colab": {
          "base_uri": "https://localhost:8080/"
        },
        "id": "CBDkVI4byO_Z",
        "outputId": "86da6e2c-28cf-447f-dc29-904b61eabbd8"
      },
      "outputs": [
        {
          "name": "stdout",
          "output_type": "stream",
          "text": [
            "Mounted at /content/drive/\n"
          ]
        }
      ],
      "source": [
        "from google.colab import drive\n",
        "drive.mount('/content/drive/')"
      ]
    },
    {
      "cell_type": "code",
      "execution_count": null,
      "metadata": {
        "id": "wS60niTbxf14"
      },
      "outputs": [],
      "source": [
        "import warnings\n",
        "warnings.filterwarnings('ignore')\n",
        "import datetime\n",
        "import os\n",
        "import gc\n",
        "from collections import namedtuple\n",
        "from pprint import pprint\n",
        "from tqdm import tqdm\n",
        "\n",
        "import numpy as np\n",
        "import pandas as pd\n",
        "\n",
        "import tensorboard\n",
        "import torch\n",
        "import torch.nn as nn\n",
        "import torch.nn.functional as F\n",
        "from torch.nn.utils.rnn import pad_sequence\n",
        "from torch.utils.data import DataLoader\n",
        "from torch.nn import CrossEntropyLoss\n",
        "from torch.optim import AdamW\n",
        "import torchmetrics\n",
        "\n",
        "from datasets import load_dataset, load_from_disk, concatenate_datasets, DatasetDict, Dataset\n",
        "from transformers import DataCollatorForSeq2Seq\n",
        "from transformers import BartConfig, T5Config\n",
        "from transformers import AutoTokenizer, AutoModelForSeq2SeqLM\n",
        "from transformers import Seq2SeqTrainingArguments, Seq2SeqTrainer\n",
        "import evaluate\n",
        "from nltk.translate.bleu_score import sentence_bleu, SmoothingFunction\n",
        "from rouge import Rouge\n",
        "\n",
        "import matplotlib as mpl\n",
        "import matplotlib.pyplot as plt\n",
        "%matplotlib inline\n",
        "\n",
        "import seaborn as sns\n",
        "\n",
        "import matplotlib as mpl\n",
        "import matplotlib.pyplot as plt\n",
        "%matplotlib inline\n",
        "\n",
        "import seaborn as sns"
      ]
    },
    {
      "attachments": {},
      "cell_type": "markdown",
      "metadata": {
        "id": "cTxXx3eqxf17"
      },
      "source": [
        "## Settings"
      ]
    },
    {
      "cell_type": "code",
      "execution_count": null,
      "metadata": {
        "id": "bzZ92td4xf18"
      },
      "outputs": [],
      "source": [
        "MANUAL_TRAINING = True\n",
        "MANUAL_VALIDATION = True\n",
        "NUM_EPOCHS = 1\n",
        "MID_CHECKPOINT_NUM = 1  # 중간 저장 횟수\n",
        "MID_PROCESS_PRINT_NUM = 50  # 중간 진행 상황 출력 횟수\n",
        "device = torch.device('cuda' if torch.cuda.is_available() else 'cpu')"
      ]
    },
    {
      "attachments": {},
      "cell_type": "markdown",
      "metadata": {
        "id": "UQJN1Bg2xf19"
      },
      "source": [
        "## Loading Tokenizer & Model Checkpoint"
      ]
    },
    {
      "cell_type": "code",
      "execution_count": null,
      "metadata": {
        "colab": {
          "base_uri": "https://localhost:8080/"
        },
        "id": "rbJ90HZ9xf1-",
        "outputId": "4af2127c-a738-4630-ec4e-9507b6dc1ea0"
      },
      "outputs": [
        {
          "name": "stderr",
          "output_type": "stream",
          "text": [
            "You passed along `num_labels=3` with an incompatible id to label map: {'0': 'NEGATIVE', '1': 'POSITIVE'}. The number of labels wil be overwritten to 2.\n"
          ]
        }
      ],
      "source": [
        "config = BartConfig.from_json_file('./drive/MyDrive/text_processing/config.json')\n",
        "tokenizer = AutoTokenizer.from_pretrained(\"./drive/MyDrive/text_processing/\")\n",
        "checkpoint = torch.load('./drive/MyDrive/text_processing/pytorch_model.bin')\n",
        "model = AutoModelForSeq2SeqLM.from_config(config)\n",
        "model_distil = AutoModelForSeq2SeqLM.from_config(config)"
      ]
    },
    {
      "cell_type": "code",
      "execution_count": null,
      "metadata": {
        "colab": {
          "base_uri": "https://localhost:8080/"
        },
        "id": "EnhyXsz5S__1",
        "outputId": "e1032730-22bb-4704-e303-9dc06ec4e7f1"
      },
      "outputs": [
        {
          "data": {
            "text/plain": [
              "<All keys matched successfully>"
            ]
          },
          "execution_count": 7,
          "metadata": {},
          "output_type": "execute_result"
        }
      ],
      "source": [
        "model.load_state_dict(checkpoint)\n",
        "model_distil.load_state_dict(checkpoint)"
      ]
    },
    {
      "cell_type": "code",
      "execution_count": null,
      "metadata": {
        "id": "bUbaVrp6tKG_"
      },
      "outputs": [],
      "source": [
        "model_distil.model.decoder.layers = nn.Sequential(model.model.decoder.layers[0])"
      ]
    },
    {
      "attachments": {},
      "cell_type": "markdown",
      "metadata": {
        "id": "hPEV9Errxf1_"
      },
      "source": [
        "## Loading Datasets"
      ]
    },
    {
      "cell_type": "code",
      "execution_count": null,
      "metadata": {
        "id": "PMoHdJyU-hv6"
      },
      "outputs": [],
      "source": [
        "tokenized_dataset_path = './drive/MyDrive/text_processing/dataset'"
      ]
    },
    {
      "cell_type": "code",
      "execution_count": null,
      "metadata": {
        "id": "7U80NEZRxf2A"
      },
      "outputs": [],
      "source": [
        "tokenized_dataset = load_from_disk(tokenized_dataset_path)"
      ]
    },
    {
      "cell_type": "code",
      "execution_count": null,
      "metadata": {
        "colab": {
          "base_uri": "https://localhost:8080/"
        },
        "id": "d34KsI59pfLM",
        "outputId": "415603e5-e2de-4721-e93a-7ad5cadf6aad"
      },
      "outputs": [
        {
          "data": {
            "text/plain": [
              "DatasetDict({\n",
              "    train: Dataset({\n",
              "        features: ['__index_level_0__', 'input_ids', 'attention_mask', 'labels'],\n",
              "        num_rows: 1016426\n",
              "    })\n",
              "    train_baseline: Dataset({\n",
              "        features: ['__index_level_0__', 'input_ids', 'attention_mask', 'labels'],\n",
              "        num_rows: 508213\n",
              "    })\n",
              "    train_distil: Dataset({\n",
              "        features: ['__index_level_0__', 'input_ids', 'attention_mask', 'labels'],\n",
              "        num_rows: 508212\n",
              "    })\n",
              "    valid: Dataset({\n",
              "        features: ['__index_level_0__', 'input_ids', 'attention_mask', 'labels'],\n",
              "        num_rows: 56468\n",
              "    })\n",
              "    test: Dataset({\n",
              "        features: ['__index_level_0__', 'input_ids', 'attention_mask', 'labels'],\n",
              "        num_rows: 56469\n",
              "    })\n",
              "})"
            ]
          },
          "execution_count": 11,
          "metadata": {},
          "output_type": "execute_result"
        }
      ],
      "source": [
        "tokenized_dataset"
      ]
    },
    {
      "attachments": {},
      "cell_type": "markdown",
      "metadata": {
        "id": "WFE38d66xf2B"
      },
      "source": [
        "## Training"
      ]
    },
    {
      "cell_type": "code",
      "execution_count": null,
      "metadata": {
        "id": "Fxqo-q8JcbPg"
      },
      "outputs": [],
      "source": [
        "training_args = Seq2SeqTrainingArguments(\n",
        "    output_dir=\"./results\",\n",
        "    evaluation_strategy = \"epoch\",\n",
        "    learning_rate=2e-5,\n",
        "    per_device_train_batch_size=64,\n",
        "    per_device_eval_batch_size=64,\n",
        "    num_train_epochs=NUM_EPOCHS,\n",
        "    weight_decay=0.01,\n",
        "    report_to=\"tensorboard\",\n",
        "    push_to_hub=False,\n",
        ")"
      ]
    },
    {
      "cell_type": "code",
      "execution_count": null,
      "metadata": {
        "id": "_OiPtuWLxf2B"
      },
      "outputs": [],
      "source": [
        "data_collator = DataCollatorForSeq2Seq(tokenizer, model=model_distil, return_tensors='pt')"
      ]
    },
    {
      "cell_type": "code",
      "execution_count": null,
      "metadata": {
        "id": "yEST8lEJcbPh"
      },
      "outputs": [],
      "source": [
        "trainer = Seq2SeqTrainer(\n",
        "    model=model_distil,\n",
        "    tokenizer=tokenizer,\n",
        "    args=training_args,\n",
        "    train_dataset=tokenized_dataset['train'],\n",
        "    eval_dataset=tokenized_dataset['valid'],\n",
        "    data_collator=data_collator,\n",
        ")"
      ]
    },
    {
      "cell_type": "code",
      "execution_count": null,
      "metadata": {
        "id": "-OaHf_fl08wr"
      },
      "outputs": [],
      "source": [
        "gc.collect()\n",
        "torch.cuda.empty_cache()"
      ]
    },
    {
      "cell_type": "code",
      "execution_count": null,
      "metadata": {
        "colab": {
          "background_save": true,
          "base_uri": "https://localhost:8080/"
        },
        "id": "xXEsxMJgxf2B",
        "outputId": "8f751897-8bdc-4cf8-d256-e167992a01c5"
      },
      "outputs": [
        {
          "name": "stderr",
          "output_type": "stream",
          "text": [
            "100%|██████████| 14521/14521 [2:30:28<00:00,  1.61it/s]"
          ]
        },
        {
          "name": "stdout",
          "output_type": "stream",
          "text": [
            "epoch 1 loss: 0.004978719633072615 mean: 0.17264443070447974\n"
          ]
        },
        {
          "name": "stderr",
          "output_type": "stream",
          "text": [
            "\n"
          ]
        }
      ],
      "source": [
        "\n",
        "total_loss_lt = []\n",
        "batch_loss_lt = []\n",
        "\n",
        "device = torch.device('cuda') if torch.cuda.is_available() else torch.device('cpu')\n",
        "optimizer = AdamW(model_distil.parameters(), lr=2e-5)\n",
        "trainset = tokenized_dataset['train_distil'].with_format(\"torch\", device=device)\n",
        "dataloader = DataLoader(trainset, \n",
        "                        batch_size=35, \n",
        "                        shuffle=True, \n",
        "                        #collate_fn=lambda lt: pad_sequence(lt, \n",
        "                        #                                   batch_first=True, \n",
        "                        #                                   padding_value=tokenizer.pad_token_id\n",
        "                        #                                   )\n",
        "                        )\n",
        "if not next(model_distil.parameters()).is_cuda and device == torch.device('cuda'):\n",
        "    model_distil.to(device)\n",
        "\n",
        "model_distil.train()\n",
        "for epoch in range(NUM_EPOCHS):\n",
        "    total_steps = len(dataloader)\n",
        "    save_divisor = total_steps // MID_CHECKPOINT_NUM\n",
        "    print_divisor = total_steps // MID_PROCESS_PRINT_NUM\n",
        "    \n",
        "    for i, batch in enumerate(tqdm(dataloader)):\n",
        "        X = {\n",
        "                'input_ids': batch['input_ids'],\n",
        "                'attention_mask': batch['attention_mask'],\n",
        "            }\n",
        "        y = batch['labels']\n",
        "        \n",
        "        outputs = model_distil(**X, labels=y)\n",
        "        loss = outputs.loss\n",
        "        loss.backward()\n",
        "        optimizer.step()\n",
        "        optimizer.zero_grad()\n",
        "        batch_loss_lt.append(loss.item())\n",
        "\n",
        "        # if i % print_divisor == print_divisor - 1:\n",
        "        #     total_loss_lt += batch_loss_lt\n",
        "        #     batch_loss_series = pd.Series(batch_loss_lt)\n",
        "        #     print(f'\\tbatch {i}\\tloss: {loss.item()}\\tmean: {batch_loss_series.mean()}')\n",
        "        #     batch_loss_lt = []\n",
        "        \n",
        "        # if i % save_divisor == save_divisor - 1:\n",
        "        #     SAVE_STR = datetime.datetime.now().strftime('%y%m%d-%H:%M') + f'-batch{i}'\n",
        "        #     trainer.create_model_card(\n",
        "        #         language='Korean',\n",
        "        #         tags='Grammar',\n",
        "        #         finetuned_from=checkpoint\n",
        "        #     )\n",
        "        #     trainer.save_model(f\"drive/MyDrive/projects/KoGrammar/models/{SAVE_STR}\")\n",
        "\n",
        "    total_loss_lt += batch_loss_lt\n",
        "    batch_loss_series = pd.Series(batch_loss_lt)\n",
        "    print(f'epoch {epoch + 1} loss: {loss.item()} mean: {batch_loss_series.mean()}')\n"
      ]
    },
    {
      "cell_type": "code",
      "execution_count": null,
      "metadata": {
        "colab": {
          "background_save": true
        },
        "id": "lhdYVByJzLrv",
        "outputId": "ce6e3abe-0fc3-49f9-900c-dfeb779d6907"
      },
      "outputs": [
        {
          "data": {
            "text/plain": [
              "<Axes: >"
            ]
          },
          "execution_count": 17,
          "metadata": {},
          "output_type": "execute_result"
        },
        {
          "data": {
            "image/png": "[encoded data removed]",
            "text/plain": [
              "<Figure size 640x480 with 1 Axes>"
            ]
          },
          "metadata": {},
          "output_type": "display_data"
        }
      ],
      "source": [
        "total_loss_series = pd.Series(total_loss_lt)\n",
        "total_loss_series.plot.line()"
      ]
    },
    {
      "attachments": {},
      "cell_type": "markdown",
      "metadata": {
        "id": "a_GjLcX4xf2C"
      },
      "source": [
        "## Validation"
      ]
    },
    {
      "cell_type": "code",
      "execution_count": null,
      "metadata": {
        "colab": {
          "background_save": true
        },
        "id": "pUFUoq9BcbPn"
      },
      "outputs": [],
      "source": [
        "def generate_seq(model, tokenizer, input):\n",
        "    generated_ids = model.generate(**input)\n",
        "    generated_text = tokenizer.decode(generated_ids.squeeze(0), skip_special_tokens=True)\n",
        "    \n",
        "    return generated_text\n",
        "\n",
        "def generate_input_target(model, tokenizer, input, label):\n",
        "    input_text = tokenizer.decode(input['input_ids'].squeeze(0), skip_special_tokens=True)\n",
        "    generated_text = generate_seq(model, tokenizer, input)\n",
        "    target_text = tokenizer.decode(label.squeeze(0), skip_special_tokens=True)\n",
        "    \n",
        "    return {\n",
        "        'input_text': input_text,\n",
        "        'generated_text': generated_text, \n",
        "        'target_text': target_text\n",
        "    }\n",
        "\n",
        "def generate_from_data(model, tokenizer, data):\n",
        "    label = data['labels']\n",
        "    input_data = dict()\n",
        "    input_data['input_ids'] = data['input_ids']\n",
        "    input_data['attention_mask'] = data['attention_mask']\n",
        "\n",
        "    return generate_input_target(model, tokenizer, input_data, label)\n",
        "\n",
        "def eval(model, tokenizer, input_seq, label, metric, options = dict()):\n",
        "    generated_input_target = generate_input_target(model, tokenizer, input_seq, label)\n",
        "    score = metric.compute(\n",
        "        generated_input_target['generated_text'], \n",
        "        generated_input_target['target_text'],\n",
        "        **options\n",
        "    )\n",
        "\n",
        "    return score"
      ]
    },
    {
      "cell_type": "code",
      "execution_count": null,
      "metadata": {
        "colab": {
          "background_save": true
        },
        "id": "WyKkshNNxf2C",
        "outputId": "70337250-40a9-4b44-f042-63d66693b8d0"
      },
      "outputs": [
        {
          "name": "stdout",
          "output_type": "stream",
          "text": [
            "나두안봤어\n",
            "나도. 봤\n",
            "나도 안 봤어.\n",
            "나도 안 봤어.\n"
          ]
        }
      ],
      "source": [
        "model.eval()\n",
        "model_distil.eval()\n",
        "model.to(device)\n",
        "model_distil.to(device)\n",
        "validset = tokenized_dataset['valid'].with_format(\"torch\", device=device)\n",
        "index_select = 100\n",
        "test_sample = validset.select(range(index_select,index_select+1))\n",
        "test_sample_gt = test_sample['labels']\n",
        "test_sample = test_sample.remove_columns('labels')[0]\n",
        "test_sample_input = dict()\n",
        "test_sample_input['input_ids'] = test_sample['input_ids'].unsqueeze(0)\n",
        "test_sample_input['attention_mask'] = test_sample['attention_mask'].unsqueeze(0)\n",
        "output = model.generate(**test_sample_input)\n",
        "output_distil = model_distil.generate(**test_sample_input)\n",
        "input_text = tokenizer.decode(test_sample_input['input_ids'].squeeze(0), skip_special_tokens=True)\n",
        "output_text = tokenizer.decode(output.squeeze(0), skip_special_tokens=True)\n",
        "output_distil_text = tokenizer.decode(output_distil.squeeze(0), skip_special_tokens=True)\n",
        "gt_text = tokenizer.decode(test_sample_gt.squeeze(0), skip_special_tokens=True)\n",
        "\n",
        "print(input_text)\n",
        "print(output_text)\n",
        "print(output_distil_text)\n",
        "print(gt_text)"
      ]
    },
    {
      "cell_type": "code",
      "execution_count": null,
      "metadata": {
        "colab": {
          "background_save": true,
          "referenced_widgets": [
            "5c9632971605483e8954110d7f0ee502",
            "4dbd71b25ff74fd18d58a81b352069a9",
            "97167163e5fd432890e64c482b79f348"
          ]
        },
        "id": "xwjzCWgGcbPo",
        "outputId": "0c278bf0-3aeb-44f8-dcc6-dcd01d397233"
      },
      "outputs": [
        {
          "data": {
            "application/vnd.jupyter.widget-view+json": {
              "model_id": "5c9632971605483e8954110d7f0ee502",
              "version_major": 2,
              "version_minor": 0
            },
            "text/plain": [
              "Downloading builder script:   0%|          | 0.00/4.20k [00:00<?, ?B/s]"
            ]
          },
          "metadata": {},
          "output_type": "display_data"
        },
        {
          "data": {
            "application/vnd.jupyter.widget-view+json": {
              "model_id": "4dbd71b25ff74fd18d58a81b352069a9",
              "version_major": 2,
              "version_minor": 0
            },
            "text/plain": [
              "Downloading builder script:   0%|          | 0.00/8.64k [00:00<?, ?B/s]"
            ]
          },
          "metadata": {},
          "output_type": "display_data"
        },
        {
          "data": {
            "application/vnd.jupyter.widget-view+json": {
              "model_id": "97167163e5fd432890e64c482b79f348",
              "version_major": 2,
              "version_minor": 0
            },
            "text/plain": [
              "Downloading extra modules:   0%|          | 0.00/3.34k [00:00<?, ?B/s]"
            ]
          },
          "metadata": {},
          "output_type": "display_data"
        },
        {
          "name": "stderr",
          "output_type": "stream",
          "text": [
            "WARNING:datasets.arrow_dataset:Loading cached shuffled indices for dataset at /content/drive/MyDrive/text_processing/dataset/valid/cache-a61270b632d42363.arrow\n",
            "100%|██████████| 2000/2000 [01:56<00:00, 17.11it/s]"
          ]
        },
        {
          "name": "stdout",
          "output_type": "stream",
          "text": [
            "0.8175337280514006\t0.5824702486361044\n"
          ]
        },
        {
          "name": "stderr",
          "output_type": "stream",
          "text": [
            "\n"
          ]
        }
      ],
      "source": [
        "accuracy_lt = []\n",
        "bleu_score_lt = []\n",
        "rouge_score_lt = []\n",
        "accuracy = evaluate.load('accuracy')\n",
        "bleu = evaluate.load('google_bleu')\n",
        "rouge = Rouge()\n",
        "\n",
        "for example in tqdm(validset.shuffle().select(range(2000))):\n",
        "    data = dict()\n",
        "    for key in example:\n",
        "        data[key] = example[key].unsqueeze(0)\n",
        "    output = generate_from_data(model_distil, tokenizer, data)\n",
        "    generated_text = output['generated_text']\n",
        "    target_text = output['target_text']\n",
        "\n",
        "    try:\n",
        "        bleu_score = sentence_bleu([target_text], generated_text, smoothing_function=SmoothingFunction().method1)\n",
        "        rouge_score = rouge.get_scores(generated_text, target_text)[0]['rouge-2']['f']\n",
        "    except ValueError:\n",
        "        continue\n",
        "\n",
        "    bleu_score_lt.append(bleu_score)\n",
        "    rouge_score_lt.append(rouge_score)\n",
        "\n",
        "bleu_score_series = pd.Series(bleu_score_lt)\n",
        "rouge_score_series = pd.Series(rouge_score_lt)\n",
        "print(bleu_score_series.mean(), rouge_score_series.mean(), sep='\\t')\n",
        "result_df = pd.concat([bleu_score_series, rouge_score_series], axis=1)"
      ]
    },
    {
      "cell_type": "code",
      "execution_count": null,
      "metadata": {
        "colab": {
          "background_save": true
        },
        "id": "ZpFITxbocbPp",
        "outputId": "af0fd336-5e59-4ad8-deda-6a85fc3f447b"
      },
      "outputs": [
        {
          "data": {
            "text/html": [
              "\n",
              "  <div id=\"df-25d99c4c-db40-4663-9765-a905076e1fb3\">\n",
              "    <div class=\"colab-df-container\">\n",
              "      <div>\n",
              "<style scoped>\n",
              "    .dataframe tbody tr th:only-of-type {\n",
              "        vertical-align: middle;\n",
              "    }\n",
              "\n",
              "    .dataframe tbody tr th {\n",
              "        vertical-align: top;\n",
              "    }\n",
              "\n",
              "    .dataframe thead th {\n",
              "        text-align: right;\n",
              "    }\n",
              "</style>\n",
              "<table border=\"1\" class=\"dataframe\">\n",
              "  <thead>\n",
              "    <tr style=\"text-align: right;\">\n",
              "      <th></th>\n",
              "      <th>BLEU-2</th>\n",
              "      <th>ROUGE-2 F1</th>\n",
              "    </tr>\n",
              "  </thead>\n",
              "  <tbody>\n",
              "    <tr>\n",
              "      <th>count</th>\n",
              "      <td>1969.000000</td>\n",
              "      <td>1969.000000</td>\n",
              "    </tr>\n",
              "    <tr>\n",
              "      <th>mean</th>\n",
              "      <td>0.817534</td>\n",
              "      <td>0.582470</td>\n",
              "    </tr>\n",
              "    <tr>\n",
              "      <th>std</th>\n",
              "      <td>0.245126</td>\n",
              "      <td>0.433505</td>\n",
              "    </tr>\n",
              "    <tr>\n",
              "      <th>min</th>\n",
              "      <td>0.000000</td>\n",
              "      <td>0.000000</td>\n",
              "    </tr>\n",
              "    <tr>\n",
              "      <th>25%</th>\n",
              "      <td>0.717585</td>\n",
              "      <td>0.000000</td>\n",
              "    </tr>\n",
              "    <tr>\n",
              "      <th>50%</th>\n",
              "      <td>0.925391</td>\n",
              "      <td>0.666667</td>\n",
              "    </tr>\n",
              "    <tr>\n",
              "      <th>75%</th>\n",
              "      <td>1.000000</td>\n",
              "      <td>1.000000</td>\n",
              "    </tr>\n",
              "    <tr>\n",
              "      <th>max</th>\n",
              "      <td>1.000000</td>\n",
              "      <td>1.000000</td>\n",
              "    </tr>\n",
              "  </tbody>\n",
              "</table>\n",
              "</div>\n",
              "      <button class=\"colab-df-convert\" onclick=\"convertToInteractive('df-25d99c4c-db40-4663-9765-a905076e1fb3')\"\n",
              "              title=\"Convert this dataframe to an interactive table.\"\n",
              "              style=\"display:none;\">\n",
              "        \n",
              "  <svg xmlns=\"http://www.w3.org/2000/svg\" height=\"24px\"viewBox=\"0 0 24 24\"\n",
              "       width=\"24px\">\n",
              "    <path d=\"M0 0h24v24H0V0z\" fill=\"none\"/>\n",
              "    <path d=\"M18.56 5.44l.94 2.06.94-2.06 2.06-.94-2.06-.94-.94-2.06-.94 2.06-2.06.94zm-11 1L8.5 8.5l.94-2.06 2.06-.94-2.06-.94L8.5 2.5l-.94 2.06-2.06.94zm10 10l.94 2.06.94-2.06 2.06-.94-2.06-.94-.94-2.06-.94 2.06-2.06.94z\"/><path d=\"M17.41 7.96l-1.37-1.37c-.4-.4-.92-.59-1.43-.59-.52 0-1.04.2-1.43.59L10.3 9.45l-7.72 7.72c-.78.78-.78 2.05 0 2.83L4 21.41c.39.39.9.59 1.41.59.51 0 1.02-.2 1.41-.59l7.78-7.78 2.81-2.81c.8-.78.8-2.07 0-2.86zM5.41 20L4 18.59l7.72-7.72 1.47 1.35L5.41 20z\"/>\n",
              "  </svg>\n",
              "      </button>\n",
              "      \n",
              "  <style>\n",
              "    .colab-df-container {\n",
              "      display:flex;\n",
              "      flex-wrap:wrap;\n",
              "      gap: 12px;\n",
              "    }\n",
              "\n",
              "    .colab-df-convert {\n",
              "      background-color: #E8F0FE;\n",
              "      border: none;\n",
              "      border-radius: 50%;\n",
              "      cursor: pointer;\n",
              "      display: none;\n",
              "      fill: #1967D2;\n",
              "      height: 32px;\n",
              "      padding: 0 0 0 0;\n",
              "      width: 32px;\n",
              "    }\n",
              "\n",
              "    .colab-df-convert:hover {\n",
              "      background-color: #E2EBFA;\n",
              "      box-shadow: 0px 1px 2px rgba(60, 64, 67, 0.3), 0px 1px 3px 1px rgba(60, 64, 67, 0.15);\n",
              "      fill: #174EA6;\n",
              "    }\n",
              "\n",
              "    [theme=dark] .colab-df-convert {\n",
              "      background-color: #3B4455;\n",
              "      fill: #D2E3FC;\n",
              "    }\n",
              "\n",
              "    [theme=dark] .colab-df-convert:hover {\n",
              "      background-color: #434B5C;\n",
              "      box-shadow: 0px 1px 3px 1px rgba(0, 0, 0, 0.15);\n",
              "      filter: drop-shadow(0px 1px 2px rgba(0, 0, 0, 0.3));\n",
              "      fill: #FFFFFF;\n",
              "    }\n",
              "  </style>\n",
              "\n",
              "      <script>\n",
              "        const buttonEl =\n",
              "          document.querySelector('#df-25d99c4c-db40-4663-9765-a905076e1fb3 button.colab-df-convert');\n",
              "        buttonEl.style.display =\n",
              "          google.colab.kernel.accessAllowed ? 'block' : 'none';\n",
              "\n",
              "        async function convertToInteractive(key) {\n",
              "          const element = document.querySelector('#df-25d99c4c-db40-4663-9765-a905076e1fb3');\n",
              "          const dataTable =\n",
              "            await google.colab.kernel.invokeFunction('convertToInteractive',\n",
              "                                                     [key], {});\n",
              "          if (!dataTable) return;\n",
              "\n",
              "          const docLinkHtml = 'Like what you see? Visit the ' +\n",
              "            '<a target=\"_blank\" href=https://colab.research.google.com/notebooks/data_table.ipynb>data table notebook</a>'\n",
              "            + ' to learn more about interactive tables.';\n",
              "          element.innerHTML = '';\n",
              "          dataTable['output_type'] = 'display_data';\n",
              "          await google.colab.output.renderOutput(dataTable, element);\n",
              "          const docLink = document.createElement('div');\n",
              "          docLink.innerHTML = docLinkHtml;\n",
              "          element.appendChild(docLink);\n",
              "        }\n",
              "      </script>\n",
              "    </div>\n",
              "  </div>\n",
              "  "
            ],
            "text/plain": [
              "            BLEU-2   ROUGE-2 F1\n",
              "count  1969.000000  1969.000000\n",
              "mean      0.817534     0.582470\n",
              "std       0.245126     0.433505\n",
              "min       0.000000     0.000000\n",
              "25%       0.717585     0.000000\n",
              "50%       0.925391     0.666667\n",
              "75%       1.000000     1.000000\n",
              "max       1.000000     1.000000"
            ]
          },
          "execution_count": 21,
          "metadata": {},
          "output_type": "execute_result"
        }
      ],
      "source": [
        "NOW_STR = datetime.datetime.now().strftime('%y%m%d-%H:%M')\n",
        "result_df.columns = ['BLEU-2', 'ROUGE-2 F1']\n",
        "result_df.to_csv(f'./drive/MyDrive/text_processing/result-data/{NOW_STR}-distil-tiny-valid_result.csv')\n",
        "result_df.describe()"
      ]
    },
    {
      "cell_type": "code",
      "execution_count": null,
      "metadata": {
        "colab": {
          "background_save": true
        },
        "id": "YN4ucZPucbPq",
        "outputId": "71f9cb3b-c23a-4d3f-d8d8-3504c4237d1d"
      },
      "outputs": [
        {
          "data": {
            "image/png": "[encoded data removed]",
            "text/plain": [
              "<Figure size 640x480 with 1 Axes>"
            ]
          },
          "metadata": {},
          "output_type": "display_data"
        }
      ],
      "source": [
        "ax = sns.kdeplot(data=result_df, fill=True, palette=\"crest\", common_grid=True, cut=1)"
      ]
    },
    {
      "attachments": {},
      "cell_type": "markdown",
      "metadata": {
        "id": "8cX6bIDNxf2C"
      },
      "source": [
        "## Saving"
      ]
    },
    {
      "cell_type": "code",
      "execution_count": null,
      "metadata": {
        "colab": {
          "background_save": true
        },
        "id": "UZ2uGG5Jxf2C"
      },
      "outputs": [],
      "source": [
        "NOW_STR = datetime.datetime.now().strftime('%y%m%d-%H:%M')\n",
        "trainer.create_model_card(\n",
        "    language='Korean',\n",
        "    tags='Grammar',\n",
        "    #model='KoGrammar',\n",
        "    finetuned_from=checkpoint\n",
        ")\n",
        "trainer.save_model(f\"drive/MyDrive/text_processing/saved_model/distil_tiny_{NOW_STR}\")"
      ]
    },
    {
      "cell_type": "code",
      "execution_count": null,
      "metadata": {
        "colab": {
          "background_save": true
        },
        "id": "3ko_HnPrgQN7"
      },
      "outputs": [],
      "source": []
    }
  ],
  "metadata": {
    "accelerator": "GPU",
    "colab": {
      "include_colab_link": true,
      "machine_shape": "hm",
      "provenance": []
    },
    "gpuClass": "premium",
    "kernelspec": {
      "display_name": "Python 3",
      "language": "python",
      "name": "python3"
    },
    "language_info": {
      "codemirror_mode": {
        "name": "ipython",
        "version": 3
      },
      "file_extension": ".py",
      "mimetype": "text/x-python",
      "name": "python",
      "nbconvert_exporter": "python",
      "pygments_lexer": "ipython3",
      "version": "3.10.6"
    }
  },
  "nbformat": 4,
  "nbformat_minor": 0
}
